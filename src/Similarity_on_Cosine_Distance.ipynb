{
 "cells": [
  {
   "cell_type": "markdown",
   "id": "863fee66",
   "metadata": {},
   "source": [
    "### Importing Libraries"
   ]
  },
  {
   "cell_type": "code",
   "execution_count": 1,
   "id": "664e8636",
   "metadata": {},
   "outputs": [],
   "source": [
    "import math\n",
    "import re\n",
    "from collections import Counter\n"
   ]
  },
  {
   "cell_type": "markdown",
   "id": "78d48de4",
   "metadata": {},
   "source": [
    "### regular expression\n",
    " - \\w matches any alphanumeric character and the underscore\n",
    " - '+' causes the RE to match 1 or more repetitions of the preceding RE"
   ]
  },
  {
   "cell_type": "code",
   "execution_count": 2,
   "id": "37809285",
   "metadata": {},
   "outputs": [],
   "source": [
    "WORD = re.compile(r'\\w+')"
   ]
  },
  {
   "cell_type": "markdown",
   "id": "3c9240d0",
   "metadata": {},
   "source": [
    "### Text to Vector Conversion"
   ]
  },
  {
   "cell_type": "code",
   "execution_count": 3,
   "id": "61ede199",
   "metadata": {},
   "outputs": [],
   "source": [
    "def text2vec(text):\n",
    "    words = WORD.findall(text)\n",
    "    # unordered collection where elements are stored as dict keys, and counts are stored as dict vals\n",
    "    return Counter(words)"
   ]
  },
  {
   "cell_type": "markdown",
   "id": "8f5a8527",
   "metadata": {},
   "source": [
    "### Cosine Distance Calculation"
   ]
  },
  {
   "cell_type": "code",
   "execution_count": 4,
   "id": "438614ae",
   "metadata": {},
   "outputs": [],
   "source": [
    "def cosDist(vector1, vector2):\n",
    "    # set of unordered collection of unique items\n",
    "    intersection = set(vector1.keys()) & set(vector2.keys())  # return set with elements in intersection\n",
    "    numerator = sum([vector1[x] * vector2[x] for x in intersection])\n",
    "    \n",
    "    sum1 = sum([vector1[x] ** 2 for x in vector1.keys()])\n",
    "    sum2 = sum([vector2[x] ** 2 for x in vector2.keys()])\n",
    "    denominator = math.sqrt(sum1) * math.sqrt(sum2)\n",
    "    \n",
    "    if not denominator:\n",
    "        return 0.0\n",
    "    else:\n",
    "        return float(numerator) / denominator"
   ]
  },
  {
   "cell_type": "markdown",
   "id": "55be76c7",
   "metadata": {},
   "source": [
    "### Defining a function to read files"
   ]
  },
  {
   "cell_type": "code",
   "execution_count": 5,
   "id": "48d44fa7",
   "metadata": {},
   "outputs": [],
   "source": [
    "def readFile(filename):\n",
    "    return open(\"../data/\"+filename, 'r').read()"
   ]
  },
  {
   "cell_type": "code",
   "execution_count": 6,
   "id": "b08fd43f",
   "metadata": {},
   "outputs": [
    {
     "name": "stdout",
     "output_type": "stream",
     "text": [
      "Text1 is:  Now is the time for all good men to come to the aid of the party\n",
      "Text2 is:  The quick brown fox jumps over the lazy dog\n"
     ]
    }
   ],
   "source": [
    "text1 = readFile(\"nowIsTheTime.txt\")\n",
    "text2 = readFile(\"quickBrownFox.txt\")\n",
    "print(\"Text1 is: \", text1)\n",
    "\n",
    "print(\"Text2 is: \", text2)"
   ]
  },
  {
   "cell_type": "code",
   "execution_count": 7,
   "id": "917feca4",
   "metadata": {},
   "outputs": [
    {
     "name": "stdout",
     "output_type": "stream",
     "text": [
      "Cosine Distance:\t 0.204\n"
     ]
    }
   ],
   "source": [
    "vec1 = text2vec(text1)\n",
    "vec2 = text2vec(text2)\n",
    "\n",
    "cosine = cosDist(vec1, vec2)\n",
    "\n",
    "print(\"Cosine Distance:\\t\", round(cosine, 3))"
   ]
  },
  {
   "cell_type": "code",
   "execution_count": null,
   "id": "2c2793c9",
   "metadata": {},
   "outputs": [],
   "source": []
  }
 ],
 "metadata": {
  "kernelspec": {
   "display_name": "Python 3 (ipykernel)",
   "language": "python",
   "name": "python3"
  },
  "language_info": {
   "codemirror_mode": {
    "name": "ipython",
    "version": 3
   },
   "file_extension": ".py",
   "mimetype": "text/x-python",
   "name": "python",
   "nbconvert_exporter": "python",
   "pygments_lexer": "ipython3",
   "version": "3.11.4"
  }
 },
 "nbformat": 4,
 "nbformat_minor": 5
}
