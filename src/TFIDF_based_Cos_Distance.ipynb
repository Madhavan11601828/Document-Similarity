{
 "cells": [
  {
   "cell_type": "code",
   "execution_count": 1,
   "id": "b8266147",
   "metadata": {},
   "outputs": [],
   "source": [
    "#importing Libraries\n",
    "from sklearn.feature_extraction.text import TfidfVectorizer\n"
   ]
  },
  {
   "cell_type": "code",
   "execution_count": 2,
   "id": "c624c611",
   "metadata": {},
   "outputs": [],
   "source": [
    "# Defining a function to read files\n",
    "def readFiles():\n",
    "    files = []\n",
    "    choice = int(input(\"How many files you want to enter (least no. of files must be 2): \"))\n",
    "    for i in range(choice):\n",
    "        filename = input(\"Enter filename: \")\n",
    "        filedirct = \"../data/\"+filename\n",
    "        files.append(filedirct)\n",
    "    docs = [open(f, encoding=\"utf-8\").read() for f in files]\n",
    "    tfidf = TfidfVectorizer().fit_transform(docs)\n",
    "    # no need to normalize, since Vectorizer will return normalized tf-idf\n",
    "    pairwise_similarity = (tfidf*tfidf.T).A\n",
    "    return pairwise_similarity "
   ]
  },
  {
   "cell_type": "code",
   "execution_count": 3,
   "id": "9362e06f",
   "metadata": {},
   "outputs": [
    {
     "name": "stdout",
     "output_type": "stream",
     "text": [
      "How many files you want to enter (least no. of files must be 2): 5\n",
      "Enter filename: asdf.txt\n",
      "Enter filename: etaoinShrdlu.txt\n",
      "Enter filename: loremIpsum.txt\n",
      "Enter filename: nowIsTheTime.txt\n",
      "Enter filename: quickBrownFox.txt\n"
     ]
    }
   ],
   "source": [
    "similarity = readFiles()"
   ]
  },
  {
   "cell_type": "code",
   "execution_count": 4,
   "id": "7a6a877c",
   "metadata": {},
   "outputs": [
    {
     "name": "stdout",
     "output_type": "stream",
     "text": [
      "[[1.         0.         0.         0.         0.        ]\n",
      " [0.         1.         0.         0.         0.        ]\n",
      " [0.         0.         1.         0.         0.        ]\n",
      " [0.         0.         0.         1.         0.27594268]\n",
      " [0.         0.         0.         0.27594268 1.        ]]\n"
     ]
    }
   ],
   "source": [
    "print(similarity)"
   ]
  },
  {
   "cell_type": "code",
   "execution_count": null,
   "id": "c9dc74c2",
   "metadata": {},
   "outputs": [],
   "source": []
  },
  {
   "cell_type": "code",
   "execution_count": null,
   "id": "d052a1e4",
   "metadata": {},
   "outputs": [],
   "source": []
  }
 ],
 "metadata": {
  "kernelspec": {
   "display_name": "Python 3 (ipykernel)",
   "language": "python",
   "name": "python3"
  },
  "language_info": {
   "codemirror_mode": {
    "name": "ipython",
    "version": 3
   },
   "file_extension": ".py",
   "mimetype": "text/x-python",
   "name": "python",
   "nbconvert_exporter": "python",
   "pygments_lexer": "ipython3",
   "version": "3.11.4"
  }
 },
 "nbformat": 4,
 "nbformat_minor": 5
}
